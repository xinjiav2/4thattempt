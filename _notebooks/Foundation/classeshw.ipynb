{
 "cells": [
  {
   "cell_type": "markdown",
   "metadata": {},
   "source": [
    "## Fridge mini game\n",
    "In the code cell below i would like for you to create a fun fridge mini game where you are looking for a good midnight snack in the dark and you pul out a random food item good or bad.\n",
    "You should be able to complete this Homework activity within 15-20 minutes assuming you fully understand the content presented in our lesson. Alhtough, i do understand that some people may get stuck and need extra time to complete the homework. I think classes and methods are a really good thing to have on a large scale project. Although you could make the game below work with different methoods. Please do not use `chat gpt` I worked hard making this.\n",
    "# What to Do\n",
    "I want you to look through the code and complete the missing pieces and write new code lines to make the game funtion.\n",
    "this is basically a `gambling simulator` but with food.\n",
    "I have porvided \"hints\" in the code.\n",
    "### if you want a challenge dont read the <span style=\"color: green;\">GREEN</span>\n",
    "the green next to code it the real hint if you look at the // above there is description of what you need to do\n",
    "starting from a little above the bottom at the fill in the blank or top is the easiest the `middle is the hardest`.\n",
    "## Grab item\n",
    "I want you to Create a grab item function that will reference the class to randomly pick a food item"
   ]
  },
  {
   "cell_type": "code",
   "execution_count": 1,
   "metadata": {},
   "outputs": [
    {
     "data": {
      "application/javascript": "// Fridge Mini-Game: Enhanced with scores and quality feedback\n//place class + constructor here\nclass fridge {\n  constructor() {\n    // Array of items in the fridge with their scores\n    this.fridgeItems = [\n      { name: 'food a', score = 10}\n      { name: 'food b', score = 9}\n      { name: 'food c', score = 8}\n      { name: 'food d', score = 7}\n      { name: 'food e', score = 6}\n      { name: 'food f', score = 5}\n      { name: 'food g', score = 4}\n      { name: 'food h', score = 3}\n      { name: 'food i', score = 2}\n      { name: 'food j', score = 1}\n    ];\n  }\n  // Method to pick a random item from the fridge\n  grabItem() {\n    let item = Math.floor(Math.random() * this.fridgeItems.length);\n    return this.fridgeItems[randomIndex];\n  }\n  // Method to classify the find based on its score\n  classifyFind(score) {\n    if (score >= 7) {\n      return 'food!';\n    } else if (score >= 5) {\n      return 'slightly worse food!'\n    } else {\n      return 'GET OUT'\n    }\n    }\n    }\n  // Reference method to start the game (Some fill in the blank)\n  start() {\n    console.log(\"you are hungry and go get food\"); // Write a response\n    const item = this.grabItem();\n    console.log(`you grab ${item.name}`); //fill in the () with a phrase on the item and a reference to the item\n    // Get feedback based on the item's score (unchanged you only need to fix the {} )\n    // find and fix the misisng pieces\n    const feedback = this.classifyFind(item.score);\n    console.log(`It is ${feedback} Score: ${item.score}`);\n  }\n}\n// Create an instance of the game  hint: const.\nlet game = new game\n// Start the game by calling the play method hint .play\ngame.play() (edited) \n",
      "text/plain": [
       "<IPython.core.display.Javascript object>"
      ]
     },
     "metadata": {},
     "output_type": "display_data"
    }
   ],
   "source": [
    "%%js\n",
    "// Fridge Mini-Game: Enhanced with scores and quality feedback\n",
    "//place class + constructor here\n",
    "class fridge {\n",
    "  constructor() {\n",
    "    // Array of items in the fridge with their scores\n",
    "    this.fridgeItems = [\n",
    "      { name: 'food a', score = 10}\n",
    "      { name: 'food b', score = 9}\n",
    "      { name: 'food c', score = 8}\n",
    "      { name: 'food d', score = 7}\n",
    "      { name: 'food e', score = 6}\n",
    "      { name: 'food f', score = 5}\n",
    "      { name: 'food g', score = 4}\n",
    "      { name: 'food h', score = 3}\n",
    "      { name: 'food i', score = 2}\n",
    "      { name: 'food j', score = 1}\n",
    "    ];\n",
    "  }\n",
    "  // Method to pick a random item from the fridge\n",
    "  grabItem() {\n",
    "    let item = Math.floor(Math.random() * this.fridgeItems.length);\n",
    "    return this.fridgeItems[randomIndex];\n",
    "  }\n",
    "  // Method to classify the find based on its score\n",
    "  classifyFind(score) {\n",
    "    if (score >= 7) {\n",
    "      return 'food!';\n",
    "    } else if (score >= 5) {\n",
    "      return 'slightly worse food!'\n",
    "    } else {\n",
    "      return 'GET OUT'\n",
    "    }\n",
    "    }\n",
    "    }\n",
    "  // Reference method to start the game (Some fill in the blank)\n",
    "  start() {\n",
    "    console.log(\"you are hungry and go get food\"); // Write a response\n",
    "    const item = this.grabItem();\n",
    "    console.log(`you grab ${item.name}`); //fill in the () with a phrase on the item and a reference to the item\n",
    "    // Get feedback based on the item's score (unchanged you only need to fix the {} )\n",
    "    // find and fix the misisng pieces\n",
    "    const feedback = this.classifyFind(item.score);\n",
    "    console.log(`It is ${feedback} Score: ${item.score}`);\n",
    "  }\n",
    "}\n",
    "// Create an instance of the game  hint: const.\n",
    "let game = new game\n",
    "// Start the game by calling the play method hint .play\n",
    "game.play() (edited) "
   ]
  }
 ],
 "metadata": {
  "kernelspec": {
   "display_name": "Python 3",
   "language": "python",
   "name": "python3"
  },
  "language_info": {
   "codemirror_mode": {
    "name": "ipython",
    "version": 3
   },
   "file_extension": ".py",
   "mimetype": "text/x-python",
   "name": "python",
   "nbconvert_exporter": "python",
   "pygments_lexer": "ipython3",
   "version": "3.12.1"
  }
 },
 "nbformat": 4,
 "nbformat_minor": 2
}
