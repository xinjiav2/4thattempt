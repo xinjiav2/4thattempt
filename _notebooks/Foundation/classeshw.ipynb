{
 "cells": [
  {
   "cell_type": "markdown",
   "metadata": {},
   "source": [
    "## Fridge mini game\n",
    "In the code cell below i would like for you to create a fun fridge mini game where you are looking for a good midnight snack in the dark and you pul out a random food item good or bad.\n",
    "You should be able to complete this Homework activity within 15-20 minutes assuming you fully understand the content presented in our lesson. Alhtough, i do understand that some people may get stuck and need extra time to complete the homework. I think classes and methods are a really good thing to have on a large scale project. Although you could make the game below work with different methoods. Please do not use `chat gpt` I worked hard making this.\n",
    "# What to Do\n",
    "I want you to look through the code and complete the missing pieces and write new code lines to make the game funtion.\n",
    "this is basically a `gambling simulator` but with food.\n",
    "I have porvided \"hints\" in the code.\n",
    "### if you want a challenge dont read the <span style=\"color: green;\">GREEN</span>\n",
    "the green next to code it the real hint if you look at the // above there is description of what you need to do\n",
    "starting from a little above the bottom at the fill in the blank or top is the easiest the `middle is the hardest`.\n",
    "## Grab item\n",
    "I want you to Create a grab item function that will reference the class to randomly pick a food item"
   ]
  },
  {
   "cell_type": "code",
   "execution_count": null,
   "metadata": {},
   "outputs": [],
   "source": [
    "%%js\n",
    "// Fridge Mini-Game: Enhanced with scores and quality feedback\n",
    "//place class + constructor here\n",
    "______ _______ {\n",
    "  _________() {\n",
    "    // Array of items in the fridge with their scores\n",
    "    this.fridgeItems = [ //Write in ten items found in a fridge and assign them a value of 1-10 (values can repeat)\n",
    "      { name: \"Piece of pizza\", score: 10 }, // Its more fun if it FUNNY\n",
    "    ];\n",
    "  }\n",
    "  // Method to pick a random item from the fridge\n",
    "  ________() {\n",
    "    ____ _________ = ____.floor(____.random() * this.fridgeItems.length);\n",
    "    _____ ________.fridgeItems[randomIndex];\n",
    "  }\n",
    "  // Method to classify the find based on its score\n",
    "  classifyFind(score) { // Create an if -> return -> else -> return loop using youe scoring system to create an output of good, meh, bad\n",
    "    }\n",
    "  // Reference method to start the game (Some fill in the blank)\n",
    "  ___() {\n",
    "    console.log(\"\"); // Write a response\n",
    "    const item = this.grabItem();\n",
    "    console.log(` `); //fill in the () with a phrase on the item and a reference to the item\n",
    "    // Get feedback based on the item's score (unchanged you only need to fix the {} )\n",
    "    // find and fix the misisng pieces\n",
    "    const feedback = this.classifyFind(item.score);\n",
    "    console.log(`It is ${feedback} Score: ${item.score}`);\n",
    "  }\n",
    "}\n",
    "// Create an instance of the game  hint: const.\n",
    "_______ fridgeGame = ____ FridgeGame\n",
    "// Start the game by calling the play method hint .play\n",
    "__________.______() (edited) "
   ]
  }
 ],
 "metadata": {
  "language_info": {
   "name": "python"
  }
 },
 "nbformat": 4,
 "nbformat_minor": 2
}
