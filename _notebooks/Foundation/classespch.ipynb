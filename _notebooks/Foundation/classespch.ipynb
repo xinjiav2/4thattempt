{
 "cells": [
  {
   "cell_type": "code",
   "execution_count": null,
   "metadata": {
    "vscode": {
     "languageId": "javascript"
    }
   },
   "outputs": [],
   "source": [
    "%%js\n",
    "\n",
    "const rect = new Rectangle(10, 20);\n",
    "console.log(rect.area());\n",
    "\n"
   ]
  },
  {
   "cell_type": "code",
   "execution_count": null,
   "metadata": {
    "vscode": {
     "languageId": "javascript"
    }
   },
   "outputs": [],
   "source": [
    "%%js\n",
    "\n",
    "const fridge = new Rectangle(40, 20);\n",
    "console.log(fridge.area());\n",
    "fridge.width = 20\n",
    "fridge.height = 10\n",
    "console.log(fridge.area());\n"
   ]
  },
  {
   "cell_type": "code",
   "execution_count": 4,
   "metadata": {
    "vscode": {
     "languageId": "javascript"
    }
   },
   "outputs": [
    {
     "data": {
      "application/javascript": "\nlet rect = newRectangle(1, 48);\nconsole.log(rect.area());\n\nlet rect2 = newRectangle(2, 24);\nconsole.log(rect2.area());\n\nlet rect3 = newRectangle(3, 16);\nconsole.log(rect3.area());\n\nlet rect4 = newRectangle(4, 12);\nconsole.log(rect4.area());\n\nlet rect5 = newRectangle(6, 8);\nconsole.log(rect5.area());\n\n",
      "text/plain": [
       "<IPython.core.display.Javascript object>"
      ]
     },
     "metadata": {},
     "output_type": "display_data"
    }
   ],
   "source": [
    "%%js\n",
    "\n",
    "\n",
    "\n",
    "let rect = newRectangle(1, 48);\n",
    "console.log(rect.area());\n",
    "\n",
    "let rect2 = newRectangle(2, 24);\n",
    "console.log(rect2.area());\n",
    "\n",
    "let rect3 = newRectangle(3, 16);\n",
    "console.log(rect3.area());\n",
    "\n",
    "let rect4 = newRectangle(4, 12);\n",
    "console.log(rect4.area());\n",
    "\n",
    "let rect5 = newRectangle(6, 8);\n",
    "console.log(rect5.area());\n",
    "\n"
   ]
  },
  {
   "cell_type": "code",
   "execution_count": 5,
   "metadata": {
    "vscode": {
     "languageId": "javascript"
    }
   },
   "outputs": [
    {
     "data": {
      "application/javascript": "\nclass Rectangle {\n    constructor(width, height) {\n        this.width = width;\n        this.height = height;\n    }\n    getPerimeter() {\n        return 2 * (this.width + this.height);\n    }\n}\nconst rect = new Rectangle(10, 5);\nconsole.log(rect.getPerimeter()); // Output should be 30\n",
      "text/plain": [
       "<IPython.core.display.Javascript object>"
      ]
     },
     "metadata": {},
     "output_type": "display_data"
    }
   ],
   "source": [
    "%%js\n",
    "\n",
    "class Rectangle {\n",
    "    constructor(width, height) {\n",
    "        this.width = width;\n",
    "        this.height = height;\n",
    "    }\n",
    "    getPerimeter() {\n",
    "        return 2 * (this.width + this.height);\n",
    "    }\n",
    "}\n",
    "const rect = new Rectangle(10, 5);\n",
    "console.log(rect.getPerimeter()); // Output should be 30"
   ]
  },
  {
   "cell_type": "code",
   "execution_count": 6,
   "metadata": {
    "vscode": {
     "languageId": "javascript"
    }
   },
   "outputs": [
    {
     "data": {
      "application/javascript": "\nclass Square {\n    constructor(sideLength) {\n        this.sideLength = sideLength;\n    }\n    getDiagonal() {\n        return this.sideLength * Math.sqrt(2);\n    }\n}\nconst square = new Square(5);\nconsole.log(square.getDiagonal()); // Output should be 7.07 (sideLength * √2)\n",
      "text/plain": [
       "<IPython.core.display.Javascript object>"
      ]
     },
     "metadata": {},
     "output_type": "display_data"
    }
   ],
   "source": [
    "%%js\n",
    "\n",
    "class Square {\n",
    "    constructor(sideLength) {\n",
    "        this.sideLength = sideLength;\n",
    "    }\n",
    "    getDiagonal() {\n",
    "        return this.sideLength * Math.sqrt(2);\n",
    "    }\n",
    "}\n",
    "const square = new Square(5);\n",
    "console.log(square.getDiagonal()); // Output should be 7.07 (sideLength * √2)"
   ]
  }
 ],
 "metadata": {
  "kernelspec": {
   "display_name": "Python 3",
   "language": "python",
   "name": "python3"
  },
  "language_info": {
   "codemirror_mode": {
    "name": "ipython",
    "version": 3
   },
   "file_extension": ".py",
   "mimetype": "text/x-python",
   "name": "python",
   "nbconvert_exporter": "python",
   "pygments_lexer": "ipython3",
   "version": "3.12.1"
  }
 },
 "nbformat": 4,
 "nbformat_minor": 2
}
