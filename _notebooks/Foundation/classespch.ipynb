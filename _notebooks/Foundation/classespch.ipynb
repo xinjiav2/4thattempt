{
 "cells": [
  {
   "cell_type": "code",
   "execution_count": null,
   "metadata": {
    "vscode": {
     "languageId": "javascript"
    }
   },
   "outputs": [],
   "source": [
    "const rect = new Rectangle(10, 20);\n",
    "console.log(rect.area());\n",
    "\n"
   ]
  },
  {
   "cell_type": "code",
   "execution_count": null,
   "metadata": {
    "vscode": {
     "languageId": "javascript"
    }
   },
   "outputs": [],
   "source": [
    "const fridge = new Rectangle(40, 20);\n",
    "console.log(fridge.area());\n",
    "fridge.width = 20\n",
    "fridge.height = 10\n",
    "console.log(fridge.area());\n"
   ]
  },
  {
   "cell_type": "code",
   "execution_count": null,
   "metadata": {
    "vscode": {
     "languageId": "javascript"
    }
   },
   "outputs": [],
   "source": []
  }
 ],
 "metadata": {
  "language_info": {
   "name": "python"
  }
 },
 "nbformat": 4,
 "nbformat_minor": 2
}
