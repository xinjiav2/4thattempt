{
 "cells": [
  {
   "cell_type": "markdown",
   "metadata": {
    "vscode": {
     "languageId": "raw"
    }
   },
   "source": [
    "```yaml\n",
    "\n",
    "---\n",
    "layout: post\n",
    "title: Iterations Homework\n",
    "permalink: /notebooks/ithw/\n",
    "---\n"
   ]
  },
  {
   "cell_type": "markdown",
   "metadata": {},
   "source": [
    "this is multiplication table"
   ]
  },
  {
   "cell_type": "code",
   "execution_count": 24,
   "metadata": {
    "vscode": {
     "languageId": "javascript"
    }
   },
   "outputs": [
    {
     "data": {
      "application/javascript": "function multiplicationtable(x) {\n    for (let i = 1; i <= 9; i++) {\n        console.log(`${x} * ${i} = ${x * i}`);\n    }\n}\n",
      "text/plain": [
       "<IPython.core.display.Javascript object>"
      ]
     },
     "metadata": {},
     "output_type": "display_data"
    }
   ],
   "source": [
    "%%js\n",
    "function table(x) { //makes function table\n",
    "    for (let i = 1; i <= 9; i++) { //makes loop from 1-9\n",
    "        console.log(`${x} * ${i} = ${x * i}`); //prints multiplication table\n",
    "    }\n",
    "}"
   ]
  },
  {
   "cell_type": "markdown",
   "metadata": {},
   "source": [
    "hey so like uhh visual studio code is writing this for me lmao\n",
    "i sarted writing in for and it basically already gave out the (let i =1; i<= 9; i++) { \n",
    "    consle.log(`${x} * )\n",
    "}\n",
    "you get my point now right\n",
    "can i just write this in python>?????"
   ]
  },
  {
   "cell_type": "markdown",
   "metadata": {},
   "source": [
    "nested loops"
   ]
  },
  {
   "cell_type": "code",
   "execution_count": null,
   "metadata": {
    "vscode": {
     "languageId": "javascript"
    }
   },
   "outputs": [
    {
     "data": {
      "application/javascript": "for (let i = 1; i <= 5; i++) { //loop runs 5 times\n    let zero = ''; //creates a variable zero\n    for (let j = 1; j <= i; j++) { //loop runs from i times\n        zero += '0';\n    }\n    console.log(zero);\n}\n",
      "text/plain": [
       "<IPython.core.display.Javascript object>"
      ]
     },
     "metadata": {},
     "output_type": "display_data"
    }
   ],
   "source": [
    "%%js\n",
    "for (let i = 1; i <= 5; i++) { //loop runs 5 times\n",
    "    let zero = ''; //creates a variable zero\n",
    "    for (let j = 1; j <= i; j++) { //loop runs from i times, adding zero\n",
    "        zero += '0'; //adds zero\n",
    "    }\n",
    "    console.log(zero); //prints it\n",
    "}"
   ]
  },
  {
   "cell_type": "markdown",
   "metadata": {},
   "source": [
    "challenge exercise"
   ]
  },
  {
   "cell_type": "code",
   "execution_count": 26,
   "metadata": {
    "vscode": {
     "languageId": "javascript"
    }
   },
   "outputs": [
    {
     "data": {
      "application/javascript": "function isprime (num) {\n    if (num <= 1) return false;\n    for (let i = 2; i < num; i++) {\n        if (num % i === 0) return false;\n    }\n    return true;\n}\n\nfor (let i = 1; i <= 50; i++) {\n    console.log(`${i} is prime: ${isprime(i)}`);\n}\n",
      "text/plain": [
       "<IPython.core.display.Javascript object>"
      ]
     },
     "metadata": {},
     "output_type": "display_data"
    }
   ],
   "source": [
    "%%js\n",
    "function primenum (num) { //makes function primenum\n",
    "    if (num <= 1) return false; //returns false if num is less than or equal to 1\n",
    "    for (let i = 2; i < num; i++) { //loop runs from 2 to num\n",
    "        if (num % i === 0) return false; //returns false if num is divisible by i\n",
    "    }\n",
    "    return true; //returns true\n",
    "}\n",
    "\n",
    "for (let i = 1; i <= 50; i++) { //loop from 1-50\n",
    "    console.log(`${i} is prime: ${primenum(i)}`); //prints if i is prime\n",
    "}\n"
   ]
  }
 ],
 "metadata": {
  "kernelspec": {
   "display_name": "Python 3",
   "language": "python",
   "name": "python3"
  },
  "language_info": {
   "codemirror_mode": {
    "name": "ipython",
    "version": 3
   },
   "file_extension": ".py",
   "mimetype": "text/x-python",
   "name": "python",
   "nbconvert_exporter": "python",
   "pygments_lexer": "ipython3",
   "version": "3.12.1"
  }
 },
 "nbformat": 4,
 "nbformat_minor": 2
}
