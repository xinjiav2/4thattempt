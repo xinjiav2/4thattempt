{
 "cells": [
  {
   "cell_type": "code",
   "execution_count": null,
   "metadata": {},
   "outputs": [],
   "source": [
    "---\n",
    "layout: post\n",
    "title: Popcorn Hacks\n",
    "description: Popcorn hacks for conditions!\n",
    "categories: [CSSE JavaScript Fundamentals]\n",
    "courses: { csse: {week: 0}, csp: {week: 0 }, csa: {week: 0}}\n",
    "type: collab\n",
    "permalink: /csse/javascript/fundamentals/conditions_hacks\n",
    "author: Zhengji Li\n",
    "toc: true\n",
    "---"
   ]
  },
  {
   "cell_type": "markdown",
   "metadata": {},
   "source": [
    "# Popcorn Hacks!\n",
    "You're at the mall with your friends, and head into the Build-A-Bear store. Use conditionals to decide what kind of bear you want with different accessories! The employee comes up to you and explains the steps. She states...\n",
    "\n",
    "\"Choose Me: Pick that special furry friend — from a silly superhero to a sporty mascot and a cheerleading bunny to a snuggly teddy bear.\n",
    "Hear Me: Add a special sound effect to your furry friend.\n",
    "Stuff Me: Customize your creation with sounds, scents, stuffing and, of course, our iconic special heart that holds your love and wishes.\n",
    "Hug Me: Give your furry friend its first hug to make sure it’s stuffed just right.\n",
    "Dress Me: Turn up the fun with outfits and extras!\n",
    "Name Me: It’s official once your creation has a birth certificate of its bear-y own!\"\n",
    "\n",
    "### Hack 1: Simple If-Statement\n",
    "Create a variable based on what kind of stuffed animal you want."
   ]
  },
  {
   "cell_type": "code",
   "execution_count": 2,
   "metadata": {
    "vscode": {
     "languageId": "javascript"
    }
   },
   "outputs": [
    {
     "data": {
      "application/javascript": "let bearType = \"ruhaan-bear\"; //Choose what kind of bear you want: Teddy or Unicorn (Example: let bearType = \"Teddyy\")\n\nif (bearType === \"ruhaan-bear\") { //Put the same bear type from above into this line\n    console.log(\"You picked a snuggly ruhaan-bear bear!\");\n}\n",
      "text/plain": [
       "<IPython.core.display.Javascript object>"
      ]
     },
     "metadata": {},
     "output_type": "display_data"
    }
   ],
   "source": [
    "%%js\n",
    "let bearType = \"ruhaan-bear\"; //Choose what kind of bear you want: Teddy or Unicorn (Example: let bearType = \"Teddyy\")\n",
    "\n",
    "if (bearType === \"ruhaan-bear\") { //Put the same bear type from above into this line\n",
    "    console.log(\"You picked a snuggly ruhaan-bear bear!\");\n",
    "}"
   ]
  },
  {
   "cell_type": "markdown",
   "metadata": {},
   "source": [
    "### Hack 2: If-Else Statement\n",
    "Add a sound to the bear based on the type chosen."
   ]
  },
  {
   "cell_type": "code",
   "execution_count": 5,
   "metadata": {
    "vscode": {
     "languageId": "javascript"
    }
   },
   "outputs": [
    {
     "data": {
      "application/javascript": "let bearType = \"ruhaan-bear\"; //Put the same bear type as before.\n\nif (bearType ===\"advait\") {\n    console.log(\"wow theres a fat ruhann???\");\n} else {\n    console.log(\"ruhaan is fat frfr\")\n}\n",
      "text/plain": [
       "<IPython.core.display.Javascript object>"
      ]
     },
     "metadata": {},
     "output_type": "display_data"
    }
   ],
   "source": [
    "%%js\n",
    "let bearType = \"ruhaan-bear\"; //Put the same bear type as before.\n",
    "\n",
    "if (bearType ===\"advait\") {\n",
    "    console.log(\"wow theres a fat ruhann???\");\n",
    "} else {\n",
    "    console.log(\"ruhaan is fat frfr\")\n",
    "}\n"
   ]
  },
  {
   "cell_type": "markdown",
   "metadata": {},
   "source": [
    "### Hack 3: Else-If Statement\n",
    "Choose the stuffing type using an If-Else-If statement"
   ]
  },
  {
   "cell_type": "code",
   "execution_count": 6,
   "metadata": {
    "vscode": {
     "languageId": "javascript"
    }
   },
   "outputs": [
    {
     "data": {
      "application/javascript": "let stuffingType = \"genshin-impact\"; //Choose a stuffing: Fluffy, Firm, or Squishy\n\nif (stuffingType === \"honkai-star-rail\") {\n    console.log(\"bad game\");\n} else if (stuffingType === \"genshin-impact\") {\n    console.log (\"they recently got sued\");\n} else {\n    console.log(\"good, finally\");\n}\n",
      "text/plain": [
       "<IPython.core.display.Javascript object>"
      ]
     },
     "metadata": {},
     "output_type": "display_data"
    }
   ],
   "source": [
    "%%js\n",
    "let stuffingType = \"genshin-impact\"; //Choose a stuffing: Fluffy, Firm, or Squishy\n",
    "\n",
    "if (stuffingType === \"honkai-star-rail\") {\n",
    "    console.log(\"bad game\");\n",
    "} else if (stuffingType === \"genshin-impact\") {\n",
    "    console.log (\"they recently got sued\");\n",
    "} else {\n",
    "    console.log(\"good, finally\");\n",
    "}"
   ]
  },
  {
   "cell_type": "markdown",
   "metadata": {},
   "source": [
    "### Hack 4: Switch Statement\n",
    "Use a switch statement to pick a bear outfit"
   ]
  },
  {
   "cell_type": "code",
   "execution_count": 13,
   "metadata": {
    "vscode": {
     "languageId": "javascript"
    }
   },
   "outputs": [
    {
     "data": {
      "application/javascript": "let bearOutfit = \"advait deshpande\"; // Choose an outfit: \"Superhero\", \"Cheerleader\", \"Pirate\", \"Princess\"\n\nswitch (bearOutfit) {\n    case \"genshin impact\":\n        console.log(\"Your bear is ready to save the day in a Superhero costume!\");\n        break;\n    case \"honkai star rail\":\n        console.log(\"Your bear will cheer with its Cheerleader outfit!\");\n        break;\n    case \"advait deshpande\":\n        console.log(\"Ahoy! Your bear is ready to sail in a Pirate costume!\");\n        break;\n    default:\n        console.log(\"Your bear is ready for a royal adventure in a Princess outfit!\");\n}\n",
      "text/plain": [
       "<IPython.core.display.Javascript object>"
      ]
     },
     "metadata": {},
     "output_type": "display_data"
    }
   ],
   "source": [
    "%%js\n",
    "let bearOutfit = \"advait deshpande\"; // Choose an outfit: \"Superhero\", \"Cheerleader\", \"Pirate\", \"Princess\"\n",
    "\n",
    "switch (bearOutfit) {\n",
    "    case \"genshin impact\":\n",
    "        console.log(\"Your bear is ready to save the day in a Superhero costume!\");\n",
    "        break;\n",
    "    case \"honkai star rail\":\n",
    "        console.log(\"Your bear will cheer with its Cheerleader outfit!\");\n",
    "        break;\n",
    "    case \"advait deshpande\":\n",
    "        console.log(\"Ahoy! Your bear is ready to sail in a Pirate costume!\");\n",
    "        break;\n",
    "    default:\n",
    "        console.log(\"Your bear is ready for a royal adventure in a Princess outfit!\");\n",
    "}\n"
   ]
  },
  {
   "cell_type": "markdown",
   "metadata": {},
   "source": [
    "### Hack 5: Complete Build-A-Bear Experience\n",
    "Combine all conditionals to create new types of bears, stuffings, and outfits in a single code cell!"
   ]
  },
  {
   "cell_type": "code",
   "execution_count": 15,
   "metadata": {
    "vscode": {
     "languageId": "javascript"
    }
   },
   "outputs": [
    {
     "data": {
      "application/javascript": "let bearType = \"advait\"; //Make a type of bear!\nlet stuffingType = \"tanay\"; //Choose a type of stuffing!\nlet bearOutfit = \"aarav is a predator\"; //Create your own outfit!\n\n// Step 1: Choose Me\nif (bearType === \"advait\") { //Choose a bear type\n    console.log(\"bame\"); //Create a console message for the specified bear type\n} else if (bearType === \"nikhil\") {\n    console.log(\"hes on the other side of the room bruh\");\n} else {\n    console.log(\"who??\");\n}\n\n//Repeat these steps. When finished, you should be able to choose your own type of bear, stuffing, and outfit within a single code cell. Be creative and have fun!!!\n// Step 2: Hear Me\nif (bearType === \"fat\") {\n    console.log(\"stop being fat\");\n} else {\n    console.log(\"good\");\n}\n\n// Step 3: Stuff Me\nif (stuffingType === \"tanay\") {\n    console.log(\"spray painted galaxy phone case or something now GET OUT\");\n} else if (stuffingType === \"aarav\") {\n    console.log(\"predator\");\n} else {\n    console.log(\"who???\");\n}\n\n// Step 4: Dress Me\nswitch (bearOutfit) {\n    case \"aarav is a predator\":\n        console.log(\"GET OUT\");\n        break;\n    case \"hows life\":\n        console.log(\"maybe?? GET OUT\");\n        break;\n    case \"what aarav just said\":\n        console.log(\"ok definetly GET OUT\");\n        break;\n    default:\n        console.log(\"fine you can stay\");\n}\n",
      "text/plain": [
       "<IPython.core.display.Javascript object>"
      ]
     },
     "metadata": {},
     "output_type": "display_data"
    }
   ],
   "source": [
    "%%js\n",
    "let bearType = \"advait\"; //Make a type of bear!\n",
    "let stuffingType = \"tanay\"; //Choose a type of stuffing!\n",
    "let bearOutfit = \"aarav is a predator\"; //Create your own outfit!\n",
    "\n",
    "// Step 1: Choose Me\n",
    "if (bearType === \"advait\") { //Choose a bear type\n",
    "    console.log(\"bame\"); //Create a console message for the specified bear type\n",
    "} else if (bearType === \"nikhil\") {\n",
    "    console.log(\"hes on the other side of the room bruh\");\n",
    "} else {\n",
    "    console.log(\"who??\");\n",
    "}\n",
    "\n",
    "//Repeat these steps. When finished, you should be able to choose your own type of bear, stuffing, and outfit within a single code cell. Be creative and have fun!!!\n",
    "// Step 2: Hear Me\n",
    "if (bearType === \"fat\") {\n",
    "    console.log(\"stop being fat\");\n",
    "} else {\n",
    "    console.log(\"good\");\n",
    "}\n",
    "\n",
    "// Step 3: Stuff Me\n",
    "if (stuffingType === \"tanay\") {\n",
    "    console.log(\"spray painted galaxy phone case or something now GET OUT\");\n",
    "} else if (stuffingType === \"aarav\") {\n",
    "    console.log(\"predator\");\n",
    "} else {\n",
    "    console.log(\"who???\");\n",
    "}\n",
    "\n",
    "// Step 4: Dress Me\n",
    "switch (bearOutfit) {\n",
    "    case \"aarav is a predator\":\n",
    "        console.log(\"GET OUT\");\n",
    "        break;\n",
    "    case \"hows life\":\n",
    "        console.log(\"maybe?? GET OUT\");\n",
    "        break;\n",
    "    case \"what aarav just said\":\n",
    "        console.log(\"ok definetly GET OUT\");\n",
    "        break;\n",
    "    default:\n",
    "        console.log(\"fine you can stay\");\n",
    "}\n"
   ]
  }
 ],
 "metadata": {
  "kernelspec": {
   "display_name": "venv",
   "language": "python",
   "name": "python3"
  },
  "language_info": {
   "codemirror_mode": {
    "name": "ipython",
    "version": 3
   },
   "file_extension": ".py",
   "mimetype": "text/x-python",
   "name": "python",
   "nbconvert_exporter": "python",
   "pygments_lexer": "ipython3",
   "version": "3.12.1"
  }
 },
 "nbformat": 4,
 "nbformat_minor": 2
}
