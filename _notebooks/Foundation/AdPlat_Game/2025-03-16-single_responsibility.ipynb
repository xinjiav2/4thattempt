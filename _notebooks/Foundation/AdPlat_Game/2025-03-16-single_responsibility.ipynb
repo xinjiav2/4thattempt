{
 "cells": [
  {
   "cell_type": "raw",
   "metadata": {
    "vscode": {
     "languageId": "raw"
    }
   },
   "source": [
    "---\n",
    "toc: true\n",
    "comments: true\n",
    "layout: post\n",
    "title: Single Responsibility Principle (SRP)\n",
    "description: This post will introduce you to Single Responsibility Principle and how to apply it in your code. \n",
    "categories: [Adventure plus Platformer Help (AdPlat)] \n",
    "permalink: /adplat/srp\n",
    "courses: { csse: {week: 14} }\n",
    "type: ccc\n",
    "---"
   ]
  },
  {
   "cell_type": "markdown",
   "metadata": {
    "vscode": {
     "languageId": "raw"
    }
   },
   "source": [
    "## Designing with Single Responsibility Principle (SRP)\n",
    "\n",
    "The Single Responsibility Principle is a programming concept that states that a class or method should have only one reason to change. This means that a class or method should only have one job or responsibility. This principle is part of the SOLID principles of Object-Oriented Programming (OOP).\n",
    "\n",
    "- **Class Design**: SRP helps to keep the code more maintainable and understandable. When classes have more than one responsibility, they can become complex and harder to understand, maintain, and change. By ensuring that each class has only one responsibility, we can keep our code clean, organized, and easier to work with.\n",
    "\n",
    "- **Method Design**: In game development, it's crucial to keep code as simple and clear as possible using SRP. Games often involve complex systems interacting with each other, and having clear, single-purpose methods can make it easier to understand how these systems work together. It also makes it easier to isolate and fix bugs, as each method is responsible for one thing.\n",
    "\n",
    "### The Importance of Single Purpose Classes and Methods in Game Development\n",
    "\n",
    "- **Easier Debugging and Testing**: When each class and method has a single responsibility, it's easier to write tests for them and to debug them when things go wrong. You can focus on testing one specific functionality at a time, and if a test fails, you know exactly where to look for the problem.\n",
    "\n",
    "- **More Readable and Maintainable Code**: Code that follows the SRP is generally more readable and easier to maintain. Each class and method does one thing, so it's easier to understand what each part of the code is supposed to do. This makes it easier for other developers to understand your code, and it makes it easier for you to understand and update your code in the future."
   ]
  },
  {
   "cell_type": "markdown",
   "metadata": {},
   "source": [
    "## The Role of SRP in Game Design\n",
    "\n",
    "Code complexity without the Single Responsibility Principle (SRP) can quickly become unreadable, and changes can become daunting. Code with SRP more clearly illustrates code flow and order of operations.\n",
    "\n",
    "### GameLoop \n",
    "\n",
    "Here is an example of the SRP design pattern showing the `gameLoop()` method. The responsibility of this method is to keep the level running unless it is ended or paused. It calls external methods, like `this.currentLevel.update()`, to handle the logic of updating the level.\n",
    "\n",
    "```js\n",
    "/**\n",
    " * The main game loop \n",
    " */\n",
    "\n",
    "gameLoop() {\n",
    "    // If the level is not set to continue, handle the level end condition \n",
    "    if (!this.currentLevel.continue) {\n",
    "        this.handleLevelEnd();\n",
    "        return;\n",
    "    }\n",
    "    // If the game level is paused, stop the game loop\n",
    "    if (this.isPaused) {\n",
    "        return;\n",
    "    }\n",
    "    // Level updates\n",
    "    this.currentLevel.update();\n",
    "    this.handleInLevelLogic();\n",
    "    // Recurse at frame rate speed\n",
    "    requestAnimationFrame(this.gameLoop.bind(this));\n",
    "}\n",
    "```"
   ]
  },
  {
   "cell_type": "markdown",
   "metadata": {},
   "source": [
    "### Character Update\n",
    "\n",
    "Here is the `update` method defined in the `Character` class, which is a direct descendant of the `GameObject` class. The `Player` class is a direct descendant of the `Character` class. This follows the SRP design, where the `Character` class handles moving logic for `draw`, `collisionChecks`, and `move` in SRP methods.\n",
    "\n",
    "```js\n",
    "/**\n",
    " * Manages the object's look, state, and movement. \n",
    " */\n",
    "\n",
    "update() {\n",
    "    this.draw();             // Draw the character on the canvas\n",
    "    this.collisionChecks();  // Check for collisions with other objects\n",
    "    this.move();             // Update the character's position\n",
    "}\n",
    "```"
   ]
  },
  {
   "cell_type": "markdown",
   "metadata": {},
   "source": [
    "### GameObject Collision Checks \n",
    "\n",
    "Here is an example of managing collision checks using SRP. A key consideration in this SRP design is the use of the `GameObject` class to check for collisions in one place. `GameObject` is the parent class of `Character` and other non-character objects like `Blocks`.\n",
    "\n",
    "This method does not handle all the hitbox logic but focuses on detecting collisions and redirecting control. The `isCollision` method compares the canvas in a `GameObject` method, while the `handleCollisionEvent` method is redirected to the child class. This technique of SRP allows consideration for OOP hierarchies and engine logic to be shared or separated according to need.\n",
    "\n",
    "```javascript\n",
    "/** \n",
    " * Collision checks\n",
    " * Uses Player's isCollision to detect hits\n",
    " * Calls handleCollisionEvent on hit\n",
    " */\n",
    "\n",
    "collisionChecks() {\n",
    "    let collisionDetected = false;\n",
    "\n",
    "    for (var gameObj of this.gameEnv.gameObjects) {\n",
    "        if (gameObj.canvas && this != gameObj) {\n",
    "            this.isCollision(gameObj); // Check for collision with another game object\n",
    "            if (this.collisionData.hit) {\n",
    "                collisionDetected = true;\n",
    "                this.handleCollisionEvent(); // Handle the collision event\n",
    "            }\n",
    "        }\n",
    "    }\n",
    "\n",
    "    if (!collisionDetected) {\n",
    "        this.state.collisionEvents = []; // Reset collision events if no collision is detected\n",
    "    }\n",
    "}\n",
    "```"
   ]
  },
  {
   "cell_type": "markdown",
   "metadata": {},
   "source": [
    "## Hacks\n",
    "\n",
    "The `draw()` method in the `Character` class has become complex, as it now includes transformation and explosion elements. To make it SRP compliant, we can redesign the `draw()` method by creating other methods that handle the `ctx` changes.\n",
    "\n",
    "Here is the refactored `draw()` method proposal: \n",
    "\n",
    "```js\n",
    "draw() {\n",
    "    if (this.spriteSheet) {\n",
    "        this.setupCanvas();\n",
    "        this.transformCTX();\n",
    "        this.filterCTX();\n",
    "        this.clearCanvas();\n",
    "        this.drawSprite();\n",
    "        this.updateFrameIndex();\n",
    "    } else {\n",
    "        this.drawDefaultSquare();\n",
    "    }\n",
    "}\n",
    "```"
   ]
  },
  {
   "cell_type": "markdown",
   "metadata": {},
   "source": [
    "## College and Game Terms\n",
    "\n",
    "### Method Refactoring\n",
    "- **Definition**: The process of restructuring existing code without changing its external behavior to improve readability, maintainability, and extensibility.\n",
    "- **Example**: Refactoring the `draw()` method to adhere to the Single Responsibility Principle.\n",
    "\n",
    "### Game Loop\n",
    "- **Definition**: A fundamental part of game programming that continuously updates the game state and renders the game.\n",
    "- **Example**: The `gameLoop()` method managing the game's main loop.\n",
    "\n",
    "### Collision Detection\n",
    "- **Definition**: The computational problem of detecting when two or more physical objects in a game environment intersect.\n",
    "- **Example**: The `collisionChecks()` method in the `GameObject` class.\n",
    "\n",
    "### Canvas API\n",
    "- **Definition**: A part of HTML5 that allows for drawing graphics via JavaScript and the HTML `<canvas>` element.\n",
    "- **Example**: Using the `ctx` (context) to draw the character on the canvas."
   ]
  }
 ],
 "metadata": {
  "kernelspec": {
   "display_name": "Python 3",
   "language": "python",
   "name": "python3"
  },
  "language_info": {
   "codemirror_mode": {
    "name": "ipython",
    "version": 3
   },
   "file_extension": ".py",
   "mimetype": "text/x-python",
   "name": "python",
   "nbconvert_exporter": "python",
   "pygments_lexer": "ipython3",
   "version": "3.11.8"
  }
 },
 "nbformat": 4,
 "nbformat_minor": 2
}
