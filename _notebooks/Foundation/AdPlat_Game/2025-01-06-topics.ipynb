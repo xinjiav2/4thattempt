{
 "cells": [
  {
   "cell_type": "code",
   "execution_count": null,
   "metadata": {
    "vscode": {
     "languageId": "yaml"
    }
   },
   "outputs": [],
   "source": [
    "---\n",
    "toc: false\n",
    "layout: post\n",
    "title: Index to Topics \n",
    "description: Build guide to the Adventure plus Platformer game.  Topics and help system to foster learning, discussion, and exploration of the game.\n",
    "categories: [Adventure plus Platformer Help (AdPlat)] \n",
    "permalink: /adplat/intro\n",
    "type: ccc \n",
    "courses: { csse: {week: 13} }\n",
    "author: John Mortensen\n",
    "---\n"
   ]
  },
  {
   "cell_type": "markdown",
   "metadata": {},
   "source": [
    "## [Link to Gamify](https://nighthawkcoders.github.io/portfolio_2025/gamify)\n",
    "In the Adventure plus Plaformer game help system and notebooks, we will guide future developers through a step-by-step process of creating all of the key components of this game. The help system is broken down into various categories (using front matter), each category focusses on a specific aspect of the game, implementation, and suggests hacks for deeper learning. By the end of reviewing the help topics, you will have better understanding of the platformer game components and be encouraged to extend the game."
   ]
  },
  {
   "cell_type": "markdown",
   "metadata": {},
   "source": [
    "### Basic of the Adventure plus Platfomer Game \n",
    "\n",
    "#### Concepts\n",
    "\n",
    "**Game Objects:  Overview a GameObject**\n",
    "- Learn about defining the game objects properties.\n",
    "- Define and object literal for game object properties.\n",
    "- Create a game object using Player class.\n",
    "- Look at the draw() method\n",
    "\n",
    "\n",
    "#### Adventure Game\n",
    "\n",
    "**Background: Creating a Background**\n",
    "- Learn how to set up the game canvas using HTML and JavaScript.\n",
    "- Craft a visually appealing background that complements the game's theme.\n",
    "- Incorporate background elements that contribute to the game's atmosphere and aesthetics with parallax scrolling for a realistic effect.\n",
    "\n",
    "**Player: Setting Up the Player**\n",
    "- Create the player character class with attributes like position, velocity, and dimensions.\n",
    "- Implement basic player movement and physics, including gravity and jumping.\n",
    "\n",
    "**NPC: Friendly**\n",
    "- NPCs interaction leads to mini quizzes\n",
    "- Points system, Emerald\n",
    "\n",
    "**NPC: Enemies (Hope, Namira, Yuna)**\n",
    "Render enemy characters (creepers) that move independently, consequence when there is a collision (Namira)\n",
    "Enemy animations (ex. explosion) (Namira)\n",
    "- Collision Handling\n",
    "- Animations\n",
    "\n",
    "Collision mapping with Tiled, creating detailed collisions maps for both RPG and Plat game maps (Hope)\n",
    "- Tiled Map\n",
    "\n",
    "Post collision handling and dialogue between user and NPCs (system) (Yuna)\n",
    "- Dialog\n",
    "\n",
    "**Game-In-Game: Callbacks - Tanisha, Nico, Paul, Shayan**\n",
    "Platformer world does callback. if the player successfully answers the Golden Pig question, they will get a special amount of emeralds which will update the \"chest\" in the RPG hub. Players earn emerald points as they correctly answer the questions. These emeralds are then stored in a virtual chest located in the RPG hub. (Shayan and Tanisha)\n",
    "- Define interactive characters and/or blocks.\n",
    "\n",
    "Enemy interactions cause certain dialogs. The game could call back to earlier NPC dialogues that referenced the importance of avoiding creepers. For example, if the player fails to avoid the creeper in the platformer, the NPC might now say, “I warned you about those creepers. Your emeralds are at risk now.” (Nico and Tanisha)\n",
    "- Create player interactions after collisions with creepers.\n",
    "\n",
    "**Finish: Ending Levels**\n",
    "- Render finish line obstactle that allow the player to transition between different levels.\n",
    "- Consider alternate endings and animations.\n",
    "\n",
    "\n",
    "#### Platformer Game Parts\n",
    "\n",
    "**Platform: Designing Platforms and Collision Detection**\n",
    "- Design and draw platforms on the canvas.\n",
    "- Implement collision detection between the player character and platforms.\n",
    "- Enable the player to walk and jump on platforms while accounting for gravity.\n",
    "\n",
    "**Enemies: Implementing Enemies**\n",
    "- Introduce enemy characters (ie Goombas) that move independently across platforms.\n",
    "- Define enemy behavior, including collision interactions with the player character.\n",
    "- Create a system to defeat enemies through collision, jumping, shooting, etc.\n",
    "\n",
    "\n",
    "\n",
    "\n"
   ]
  },
  {
   "cell_type": "markdown",
   "metadata": {},
   "source": []
  }
 ],
 "metadata": {
  "language_info": {
   "name": "python"
  },
  "orig_nbformat": 4
 },
 "nbformat": 4,
 "nbformat_minor": 2
}
