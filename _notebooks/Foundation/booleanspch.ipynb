{
 "cells": [
  {
   "cell_type": "raw",
   "metadata": {
    "vscode": {
     "languageId": "raw"
    }
   },
   "source": [
    "---\n",
    "layout: post\n",
    "title: Boolean Popcorn Hacks\n",
    "description: Popcorn Hacks \n",
    "categories: [Foundation]\n",
    "courses: { csse: {week: 1}, csp: {week: 1}, csa: {week: 1} }\n",
    "comments: true\n",
    "sticky_rank: 1\n",
    "---"
   ]
  },
  {
   "cell_type": "markdown",
   "metadata": {},
   "source": [
    "# Popcorn Hacks"
   ]
  },
  {
   "cell_type": "markdown",
   "metadata": {},
   "source": [
    "# Exercise 1"
   ]
  },
  {
   "cell_type": "markdown",
   "metadata": {},
   "source": [
    "Create a variable that holds a true or false value. Print a message that says \"This is true!\" if the value is true and \"This is false!\" if the value is false."
   ]
  },
  {
   "cell_type": "code",
   "execution_count": 4,
   "metadata": {
    "vscode": {
     "languageId": "javascript"
    }
   },
   "outputs": [
    {
     "data": {
      "application/javascript": "\nlet isSunny = true;  // Change this to false to test the other case\n\nif (isSunny) {\n    console.log(\"better not go outside :P\")// Your code here\n} else {\n    console.log(\"GET OUT!!! GO TOUCH SOME GRASS\")// Your code here\n}\n",
      "text/plain": [
       "<IPython.core.display.Javascript object>"
      ]
     },
     "metadata": {},
     "output_type": "display_data"
    }
   ],
   "source": [
    "%%js \n",
    "\n",
    "let isSunny = false;  // Change this to false to test the other case\n",
    "\n",
    "if (isSunny) {\n",
    "    console.log(\"better not go outside :P\")// Your code here\n",
    "} else {\n",
    "    console.log(\"GET OUT!!! GO TOUCH SOME GRASS\")// Your code here\n",
    "}\n"
   ]
  },
  {
   "cell_type": "markdown",
   "metadata": {},
   "source": [
    "# Exercise 2"
   ]
  },
  {
   "cell_type": "markdown",
   "metadata": {},
   "source": [
    "Write a program that checks if both conditions are true: the weather is nice (true) and it’s a weekend (true). Print \"Go outside!\" if both are true, and \"Stay inside!\" otherwise."
   ]
  },
  {
   "cell_type": "code",
   "execution_count": 7,
   "metadata": {
    "vscode": {
     "languageId": "javascript"
    }
   },
   "outputs": [
    {
     "data": {
      "application/javascript": "\nlet isWeekend = true;  // Change to false to test the other case\nlet isNiceWeather = true;  // Change to false to test the other case\n\nif (isWeekend && isNiceWeather) {\n    console.log(\"TOUCH SOME GRASS\")\n} else {\n    console.log(\"fine, but as soon as it stops, TOUCH SOME GRASS\")\n}\n",
      "text/plain": [
       "<IPython.core.display.Javascript object>"
      ]
     },
     "metadata": {},
     "output_type": "display_data"
    }
   ],
   "source": [
    "%%js \n",
    "\n",
    "let isWeekend = true;  // Change to false to test the other case\n",
    "let isNiceWeather = true;  // Change to false to test the other case\n",
    "\n",
    "if (isWeekend && isNiceWeather) {\n",
    "    console.log(\"TOUCH SOME GRASS\")\n",
    "} else {\n",
    "    console.log(\"fine, but as soon as it stops, TOUCH SOME GRASS\")\n",
    "}\n"
   ]
  },
  {
   "cell_type": "markdown",
   "metadata": {},
   "source": [
    "# Exercise 3"
   ]
  },
  {
   "cell_type": "markdown",
   "metadata": {},
   "source": [
    "Write a program that prints \"Time to go to the beach!\" if it's either sunny or the weekend. Use the OR (||) operator."
   ]
  },
  {
   "cell_type": "code",
   "execution_count": 9,
   "metadata": {
    "vscode": {
     "languageId": "javascript"
    }
   },
   "outputs": [
    {
     "data": {
      "application/javascript": "\nlet isSunny = false;  // Change to false to test the other case\nlet isWeekend = false;  // Change to true to test the other case\n\nif (isSunny || isWeekend) {\n    console.log(\"TOUCH SOME GRASS.. er i mean go to the beach\")\n} else {\n    console.log(\"fine, but as soon as it starts, TOUCH SOME GRASS... errrrr i mean go to the beach\")\n}\n",
      "text/plain": [
       "<IPython.core.display.Javascript object>"
      ]
     },
     "metadata": {},
     "output_type": "display_data"
    }
   ],
   "source": [
    "%%js \n",
    "\n",
    "let isSunny = true;  // Change to false to test the other case\n",
    "let isWeekend = false;  // Change to true to test the other case\n",
    "\n",
    "if (isSunny || isWeekend) {\n",
    "    console.log(\"TOUCH SOME GRASS.. er i mean go to the beach\")\n",
    "} else {\n",
    "    console.log(\"fine, but as soon as it starts, TOUCH SOME GRASS... errrrr i mean go to the beach\")\n",
    "}\n"
   ]
  },
  {
   "cell_type": "markdown",
   "metadata": {},
   "source": [
    "# Exercise 4"
   ]
  },
  {
   "cell_type": "markdown",
   "metadata": {},
   "source": [
    "Write a program that prints \"Not sunny today\" if isSunny is false, and \"It's sunny!\" if isSunny is true. Use the NOT (!) operator to invert the value of isSunny."
   ]
  },
  {
   "cell_type": "code",
   "execution_count": null,
   "metadata": {
    "vscode": {
     "languageId": "javascript"
    }
   },
   "outputs": [],
   "source": [
    "%%js \n",
    "\n",
    "let isSunny = false;  // Change to true to test the other case\n",
    "\n",
    "if (!isSunny) {\n",
    "    console.log(\"is sunny :D\")\n",
    "} else {\n",
    "    console.log(\"not sunny :(\")\n",
    "}"
   ]
  },
  {
   "cell_type": "markdown",
   "metadata": {},
   "source": [
    "# Exercise 5"
   ]
  },
  {
   "cell_type": "markdown",
   "metadata": {},
   "source": [
    "Create a program that checks if a user is both logged in (true) and has admin rights (true). Print \"Access granted!\" if both are true, and \"Access denied!\" if either is false."
   ]
  },
  {
   "cell_type": "code",
   "execution_count": null,
   "metadata": {
    "vscode": {
     "languageId": "javascript"
    }
   },
   "outputs": [],
   "source": [
    "%%js \n",
    "\n",
    "let isLoggedIn = true;  // Change to false to test the other case\n",
    "let isAdmin = true;     // Change to false to test the other case\n",
    "\n",
    "if (isLoggedIn && isAdmin) {\n",
    "    console.log(\"Access granted!\")\n",
    "} else {\n",
    "    console.log(\"Access denied!\")\n",
    "}\n"
   ]
  },
  {
   "cell_type": "markdown",
   "metadata": {},
   "source": [
    "# Exercise 6"
   ]
  },
  {
   "cell_type": "markdown",
   "metadata": {},
   "source": [
    "Use a ternary operator to decide whether a user is allowed access based on their age. If the age is 18 or above, print \"You are allowed access.\" If below 18, print \"Sorry, you are too young.\""
   ]
  },
  {
   "cell_type": "code",
   "execution_count": null,
   "metadata": {
    "vscode": {
     "languageId": "javascript"
    }
   },
   "outputs": [],
   "source": [
    "%%js\n",
    "\n",
    "let age = 16;  // Change this value to test different cases\n",
    "\n",
    "let accessMessage = console.log(age >= 18 ? \"You are allowed access.\" : \"Sorry, you are too young.\");\n",
    "\n",
    "console.log(accessMessage);  // Will print based on age\n"
   ]
  },
  {
   "cell_type": "markdown",
   "metadata": {},
   "source": [
    "# Exercise 7"
   ]
  },
  {
   "cell_type": "markdown",
   "metadata": {},
   "source": [
    "Write a program that checks if a user is both a VIP (true) and has a VIP ticket (true). If both conditions are true, print \"VIP Access granted!\" Otherwise, print \"Access denied!\""
   ]
  },
  {
   "cell_type": "code",
   "execution_count": null,
   "metadata": {
    "vscode": {
     "languageId": "javascript"
    }
   },
   "outputs": [],
   "source": [
    "%%js \n",
    "\n",
    "let isVIP = true;          // Change to false to test the other case\n",
    "let hasVIPticket = false;  // Change to true to test the other case\n",
    "\n",
    "if (isVIP && hasVIPticket) {\n",
    "    console.log(\"VIP Access granted!\")\n",
    "} else {\n",
    "    console.log(\"Access denied!\")\n",
    "}"
   ]
  }
 ],
 "metadata": {
  "kernelspec": {
   "display_name": "Python 3",
   "language": "python",
   "name": "python3"
  },
  "language_info": {
   "codemirror_mode": {
    "name": "ipython",
    "version": 3
   },
   "file_extension": ".py",
   "mimetype": "text/x-python",
   "name": "python",
   "nbconvert_exporter": "python",
   "pygments_lexer": "ipython3",
   "version": "3.12.1"
  }
 },
 "nbformat": 4,
 "nbformat_minor": 2
}
