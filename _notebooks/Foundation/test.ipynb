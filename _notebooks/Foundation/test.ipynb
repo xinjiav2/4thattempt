{
 "cells": [
  {
   "cell_type": "code",
   "execution_count": 3,
   "metadata": {
    "vscode": {
     "languageId": "javascript"
    }
   },
   "outputs": [
    {
     "data": {
      "application/javascript": "//This is the fairly simple final problem of arrays!\n\n//Create a list here that includes whatever you'd like once again.\nlet instruments = [\"Guitar\", \"Bassguitar\", \"Drum\", \"Piano\", \"Flute\"]\n\n\n//Now, print the length of your list! Tip: you don't need to create a variable for the list's length! Just console.log the list.length; it saves you a line :D\nconsole.log(\"Length of the list:\", instruments.length);\n\n\n//Finally, create a variable to check if a value in your list is included in the list and print that variable you created (it should output true or false)\nlet isIncluded = instruments.includes(\"Piano\");\nconsole.log(\"Is 'Piano' included in the list?\", isIncluded);\n",
      "text/plain": [
       "<IPython.core.display.Javascript object>"
      ]
     },
     "metadata": {},
     "output_type": "display_data"
    }
   ],
   "source": [
    "%%js\n",
    "//This is the fairly simple final problem of arrays!\n",
    "\n",
    "//Create a list here that includes whatever you'd like once again.\n",
    "let instruments = [\"Guitar\", \"Bassguitar\", \"Drum\", \"Piano\", \"Flute\"]\n",
    "\n",
    "\n",
    "//Now, print the length of your list! Tip: you don't need to create a variable for the list's length! Just console.log the list.length; it saves you a line :D\n",
    "console.log(\"Length of the list:\", instruments.length);\n",
    "\n",
    "\n",
    "//Finally, create a variable to check if a value in your list is included in the list and print that variable you created (it should output true or false)\n",
    "let isIncluded = instruments.includes(\"Piano\");\n",
    "console.log(\"Is 'Piano' included in the list?\", isIncluded);"
   ]
  }
 ],
 "metadata": {
  "kernelspec": {
   "display_name": "Python 3",
   "language": "python",
   "name": "python3"
  },
  "language_info": {
   "codemirror_mode": {
    "name": "ipython",
    "version": 3
   },
   "file_extension": ".py",
   "mimetype": "text/x-python",
   "name": "python",
   "nbconvert_exporter": "python",
   "pygments_lexer": "ipython3",
   "version": "3.12.1"
  }
 },
 "nbformat": 4,
 "nbformat_minor": 2
}
