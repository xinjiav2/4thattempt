{
 "cells": [
  {
   "cell_type": "raw",
   "metadata": {
    "vscode": {
     "languageId": "raw"
    }
   },
   "source": [
    "---\n",
    "layout: post\n",
    "title: Nested Conditionals, Popcorn Hack Two\n",
    "description:  Second popcorn hack for nested conditionals\n",
    "type: issues \n",
    "comments: true\n",
    "---"
   ]
  },
  {
   "cell_type": "markdown",
   "metadata": {},
   "source": [
    "### Popcorn Hack 2\n",
    "\n",
    "This code uses boolean to check if a person has the unlimited amusement food card. If they do, then they are allowed to buy any food that they want for free. Add code for another type of food and take into account whether or not the food is in stock."
   ]
  },
  {
   "cell_type": "code",
   "execution_count": 9,
   "metadata": {
    "vscode": {
     "languageId": "html"
    }
   },
   "outputs": [
    {
     "data": {
      "text/html": [
       "<!-- HTML output div -->\n",
       "<div id=\"message\"></div>\n",
       "<script>\n",
       "    function runWhenDOMLoaded() {\n",
       "        let foodCard = true;\n",
       "        let money = 1;\n",
       "        let foodChoice = \"cotton candy\";\n",
       "        let foodchoice2 = 'food';\n",
       "        let foodInStock = true;\n",
       "\n",
       "        const messageElement = document.getElementById(\"message\");\n",
       "\n",
       "        function displayMessage(message) {\n",
       "            console.log(message); // Log to console\n",
       "            messageElement.textContent = message; // Display on the webpage\n",
       "        }\n",
       "\n",
       "        if (foodCard === true) {\n",
       "            if (foodChoice === \"popcorn\") {\n",
       "                displayMessage(\"Yum! The popcorn is tasty!\");\n",
       "            } else if (foodChoice === \"cotton candy\") {\n",
       "                displayMessage(\"Yum! The cotton candy is tasty!\");\n",
       "            } else if (foodChoice === \"food\") {\n",
       "                displayMessage(\"Yum! The food is tasty!\");\n",
       "            }\n",
       "        } else {\n",
       "            if (foodChoice === \"popcorn\") {\n",
       "                if (money >= 8) {\n",
       "                    if (foodInStock === true) {\n",
       "                        displayMessage(\"Yay! You can buy the popcorn!\");\n",
       "                    } else {\n",
       "                        displayMessage(\"Oh... you can't buy the popcorn.\");\n",
       "                    }\n",
       "                }\n",
       "            } else if (foodChoice === \"cotton candy\") {\n",
       "                if (money >= 5) {\n",
       "                    if (foodInStock === true) {\n",
       "                        displayMessage(\"Yay! You can buy the cotton candy!\");\n",
       "                    } else {\n",
       "                        displayMessage(\"Oh... you can't buy the cotton candy.\");\n",
       "                    }\n",
       "                }\n",
       "            } else if (foodChoice === \"food\") {\n",
       "                if (money >= 10) {\n",
       "                    if (foodInStock === true) {\n",
       "                        displayMessage(\"Yay! You can buy the food!\");\n",
       "                    } else {\n",
       "                        displayMessage(\"Oh... you can't buy the food.\");\n",
       "                    }\n",
       "                }\n",
       "            }\n",
       "        }\n",
       "    }\n",
       "\n",
       "    // Ensure the function runs only after the page loads\n",
       "    if (document.readyState === \"loading\") {\n",
       "        document.addEventListener(\"DOMContentLoaded\", runWhenDOMLoaded);\n",
       "    } else {\n",
       "        runWhenDOMLoaded();\n",
       "    }\n",
       "</script>\n"
      ],
      "text/plain": [
       "<IPython.core.display.HTML object>"
      ]
     },
     "metadata": {},
     "output_type": "display_data"
    }
   ],
   "source": [
    "%%html\n",
    "<!-- HTML output div -->\n",
    "<div id=\"message\"></div>\n",
    "<script>\n",
    "    function runWhenDOMLoaded() {\n",
    "        let foodCard = true;\n",
    "        let money = 1;\n",
    "        let foodChoice = \"cotton candy\";\n",
    "        let foodchoice2 = 'food';\n",
    "        let foodInStock = true;\n",
    "\n",
    "        const messageElement = document.getElementById(\"message\");\n",
    "\n",
    "        function displayMessage(message) {\n",
    "            console.log(message); // Log to console\n",
    "            messageElement.textContent = message; // Display on the webpage\n",
    "        }\n",
    "\n",
    "        if (foodCard === true) {\n",
    "            if (foodChoice === \"popcorn\") {\n",
    "                displayMessage(\"Yum! The popcorn is tasty!\");\n",
    "            } else if (foodChoice === \"cotton candy\") {\n",
    "                displayMessage(\"Yum! The cotton candy is tasty!\");\n",
    "            } else if (foodChoice === \"food\") {\n",
    "                displayMessage(\"Yum! The food is tasty!\");\n",
    "            }\n",
    "        } else {\n",
    "            if (foodChoice === \"popcorn\") {\n",
    "                if (money >= 8) {\n",
    "                    if (foodInStock === true) {\n",
    "                        displayMessage(\"Yay! You can buy the popcorn!\");\n",
    "                    } else {\n",
    "                        displayMessage(\"Oh... you can't buy the popcorn.\");\n",
    "                    }\n",
    "                }\n",
    "            } else if (foodChoice === \"cotton candy\") {\n",
    "                if (money >= 5) {\n",
    "                    if (foodInStock === true) {\n",
    "                        displayMessage(\"Yay! You can buy the cotton candy!\");\n",
    "                    } else {\n",
    "                        displayMessage(\"Oh... you can't buy the cotton candy.\");\n",
    "                    }\n",
    "                }\n",
    "            } else if (foodChoice === \"food\") {\n",
    "                if (money >= 10) {\n",
    "                    if (foodInStock === true) {\n",
    "                        displayMessage(\"Yay! You can buy the food!\");\n",
    "                    } else {\n",
    "                        displayMessage(\"Oh... you can't buy the food.\");\n",
    "                    }\n",
    "                }\n",
    "            }\n",
    "        }\n",
    "    }\n",
    "\n",
    "    // Ensure the function runs only after the page loads\n",
    "    if (document.readyState === \"loading\") {\n",
    "        document.addEventListener(\"DOMContentLoaded\", runWhenDOMLoaded);\n",
    "    } else {\n",
    "        runWhenDOMLoaded();\n",
    "    }\n",
    "</script>\n"
   ]
  }
 ],
 "metadata": {
  "kernelspec": {
   "display_name": "Python 3",
   "language": "python",
   "name": "python3"
  },
  "language_info": {
   "codemirror_mode": {
    "name": "ipython",
    "version": 3
   },
   "file_extension": ".py",
   "mimetype": "text/x-python",
   "name": "python",
   "nbconvert_exporter": "python",
   "pygments_lexer": "ipython3",
   "version": "3.12.1"
  }
 },
 "nbformat": 4,
 "nbformat_minor": 2
}
