{
 "cells": [
  {
   "cell_type": "markdown",
   "metadata": {},
   "source": [
    "```yaml\n",
    "\n",
    "---\n",
    "layout: page\n",
    "title: Iterations Homework\n",
    "permalink: /ithw/\n",
    "---\n"
   ]
  },
  {
   "cell_type": "markdown",
   "metadata": {},
   "source": [
    "---\n",
    "THIS WAS A JOKE THE PYTHON SHOULD NOT BE CHECKED\n",
    "---\n"
   ]
  },
  {
   "cell_type": "code",
   "execution_count": 8,
   "metadata": {
    "vscode": {
     "languageId": "javascript"
    }
   },
   "outputs": [
    {
     "name": "stdout",
     "output_type": "stream",
     "text": [
      "the following multiplication table is for 5\n",
      "5 X 1 = 5\n",
      "5 X 2 = 10\n",
      "5 X 3 = 15\n",
      "5 X 4 = 20\n",
      "5 X 5 = 25\n",
      "5 X 6 = 30\n",
      "5 X 7 = 35\n",
      "5 X 8 = 40\n",
      "5 X 9 = 45\n"
     ]
    }
   ],
   "source": [
    "x = int(input(\"enter number:\"))\n",
    "\n",
    "print('the following multiplication table is for', x)\n",
    "\n",
    "\n",
    "\n",
    "print(x, 'X 1 =', x*1)\n",
    "print(x, 'X 2 =', x*2)\n",
    "print(x, 'X 3 =', x*3)\n",
    "print(x, 'X 4 =', x*4)\n",
    "print(x, 'X 5 =', x*5)\n",
    "print(x, 'X 6 =', x*6)\n",
    "print(x, 'X 7 =', x*7)\n",
    "print(x, 'X 8 =', x*8)\n",
    "print(x, 'X 9 =', x*9)"
   ]
  },
  {
   "cell_type": "markdown",
   "metadata": {},
   "source": [
    "---\n",
    "check this lol\n",
    "---"
   ]
  },
  {
   "cell_type": "markdown",
   "metadata": {},
   "source": [
    "this is multiplication table"
   ]
  },
  {
   "cell_type": "code",
   "execution_count": null,
   "metadata": {
    "vscode": {
     "languageId": "javascript"
    }
   },
   "outputs": [],
   "source": []
  },
  {
   "cell_type": "code",
   "execution_count": 24,
   "metadata": {
    "vscode": {
     "languageId": "javascript"
    }
   },
   "outputs": [
    {
     "data": {
      "application/javascript": "function multiplicationtable(x) {\n    for (let i = 1; i <= 9; i++) {\n        console.log(`${x} * ${i} = ${x * i}`);\n    }\n}\n",
      "text/plain": [
       "<IPython.core.display.Javascript object>"
      ]
     },
     "metadata": {},
     "output_type": "display_data"
    }
   ],
   "source": [
    "%%js\n",
    "function multiplicationtable(x) {\n",
    "    for (let i = 1; i <= 9; i++) {\n",
    "        console.log(`${x} * ${i} = ${x * i}`);\n",
    "    }\n",
    "}"
   ]
  },
  {
   "cell_type": "markdown",
   "metadata": {},
   "source": [
    "hey so like uhh visual studio code is writing this for me lmao\n",
    "i sarted writing in for and it basically already gave out the (let i =1; i<= 9; i++) { \n",
    "    consle.log(`${x} * )\n",
    "}\n",
    "you get my point now right\n",
    "can i just write this in python>?????"
   ]
  },
  {
   "cell_type": "markdown",
   "metadata": {},
   "source": []
  },
  {
   "cell_type": "markdown",
   "metadata": {},
   "source": [
    "nested loops"
   ]
  },
  {
   "cell_type": "code",
   "execution_count": 22,
   "metadata": {
    "vscode": {
     "languageId": "javascript"
    }
   },
   "outputs": [
    {
     "data": {
      "application/javascript": "for (let i = 1; i <= 5; i++) {\n    let zero = '';\n    for (let j = 1; j <= i; j++) {\n        zero += '0';\n    }\n    console.log(zero);\n}\n",
      "text/plain": [
       "<IPython.core.display.Javascript object>"
      ]
     },
     "metadata": {},
     "output_type": "display_data"
    }
   ],
   "source": [
    "%%js\n",
    "for (let i = 1; i <= 5; i++) {\n",
    "    let zero = '';\n",
    "    for (let j = 1; j <= i; j++) {\n",
    "        zero += '0';\n",
    "    }\n",
    "    console.log(zero);\n",
    "}"
   ]
  },
  {
   "cell_type": "markdown",
   "metadata": {},
   "source": [
    "challenge exercise"
   ]
  },
  {
   "cell_type": "code",
   "execution_count": 26,
   "metadata": {
    "vscode": {
     "languageId": "javascript"
    }
   },
   "outputs": [
    {
     "data": {
      "application/javascript": "function isprime (num) {\n    if (num <= 1) return false;\n    for (let i = 2; i < num; i++) {\n        if (num % i === 0) return false;\n    }\n    return true;\n}\n\nfor (let i = 1; i <= 50; i++) {\n    console.log(`${i} is prime: ${isprime(i)}`);\n}\n",
      "text/plain": [
       "<IPython.core.display.Javascript object>"
      ]
     },
     "metadata": {},
     "output_type": "display_data"
    }
   ],
   "source": [
    "%%js\n",
    "function isprime (num) {\n",
    "    if (num <= 1) return false;\n",
    "    for (let i = 2; i < num; i++) {\n",
    "        if (num % i === 0) return false;\n",
    "    }\n",
    "    return true;\n",
    "}\n",
    "\n",
    "for (let i = 1; i <= 50; i++) {\n",
    "    console.log(`${i} is prime: ${isprime(i)}`);\n",
    "}\n"
   ]
  }
 ],
 "metadata": {
  "kernelspec": {
   "display_name": "Python 3",
   "language": "python",
   "name": "python3"
  },
  "language_info": {
   "codemirror_mode": {
    "name": "ipython",
    "version": 3
   },
   "file_extension": ".py",
   "mimetype": "text/x-python",
   "name": "python",
   "nbconvert_exporter": "python",
   "pygments_lexer": "ipython3",
   "version": "3.12.1"
  }
 },
 "nbformat": 4,
 "nbformat_minor": 2
}
