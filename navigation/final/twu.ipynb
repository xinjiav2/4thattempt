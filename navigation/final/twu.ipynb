{
 "cells": [
  {
   "cell_type": "code",
   "execution_count": null,
   "metadata": {},
   "outputs": [],
   "source": [
    "---\n",
    "comments: True\n",
    "layout: post\n",
    "title: Tinkers Write Up\n",
    "description: Tinkers Write Up Final\n",
    "permalink: /csse/final/twu/\n",
    "categories: [CSSE JavaScript Fundamentals]\n",
    "author: Andrew Ge, Ishan Shrivastava, Pratheep Natarajan, and Ruhaan Bansal\n",
    "---  "
   ]
  },
  {
   "cell_type": "markdown",
   "metadata": {},
   "source": [
    "# Tinker Writeup:"
   ]
  },
  {
   "cell_type": "markdown",
   "metadata": {},
   "source": [
    "# Tinker 1:"
   ]
  },
  {
   "cell_type": "markdown",
   "metadata": {},
   "source": [
    "For my first tinker, I messed around with creating a story for our game, where the main enemy, Nahhur, wishes to take over the world and turn everyone into github repositories. He has unleashed an army of mascots from various tools, and you must complete all the quizzes to defeat him.\n",
    "\n",
    "![Alt Text](tinker1.png)\n"
   ]
  },
  {
   "cell_type": "markdown",
   "metadata": {},
   "source": [
    "# Tinker 2"
   ]
  },
  {
   "cell_type": "markdown",
   "metadata": {},
   "source": [
    "For my second tinker, when we paried up to start creating our level, my parter Zhengji and I created our own platformer game, however, unbeknownst to us, we didn't realize that we weren't allowed to make a platformer game as the movement is different from the adventure game, and we also weren't allowed to use our fellow classmates' names. However, while coding the platformer game, I developed my JavaScript skills and learned how to use buttons to initiate different variables and actions.\n",
    "\n",
    "![Alt Text](tinker2.png)\n",
    "\n",
    "Here, the different buttons initiate different playable characters.\n"
   ]
  },
  {
   "cell_type": "markdown",
   "metadata": {},
   "source": [
    "# Tinker 3"
   ]
  },
  {
   "cell_type": "markdown",
   "metadata": {},
   "source": [
    "For my third tinker, I created sprites for our game. I realized that chatgpt's sprites aren't that great so in my free time over break, I created my own sprites just how i want them. I also learned how to implement the sprite sheets into the game to create the animated sprites in-game.\n",
    "\n",
    "![Alt Text](chillguy2.png)\n",
    "![Alt Text](nahhur.png)\n",
    "\n"
   ]
  },
  {
   "cell_type": "markdown",
   "metadata": {},
   "source": [
    "During Night at the Museum, we viewed our peers' projects and got helpful feedback and criticism on our own. In the future, this class can help us in a potential computer science career, and also any career that requires collaboration with coworkers. As individuals, we learned to reflect on our mistakes and keep persevering through tough times and that we can always accomplish whatever we want as long as we go one step at a time. For our project's future, we would like to implement a feature to race against Nahhur in a final battle through a maze, this time focusing more on smoothening out the gameplay instead of rushing and adding new things here and there. In our multi-person DM, we will discuss how we can improve the quality of our game, implement new features, and find a way to find and patch bugs more efficiently. We would give ourselves a 0.9 because we feel that not only did we complete the tasks required, but we also worked outside of school, including our free time, and got feedback and reviews from upperclassmen like Srijan. "
   ]
  }
 ],
 "metadata": {
  "language_info": {
   "name": "python"
  }
 },
 "nbformat": 4,
 "nbformat_minor": 2
}
