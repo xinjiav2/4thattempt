{
 "cells": [
  {
   "cell_type": "raw",
   "metadata": {
    "vscode": {
     "languageId": "raw"
    }
   },
   "source": [
    "---\n",
    "layout: post\n",
    "title: Nested Conditionals, Homework\n",
    "description:  Homework for nested conditionals\n",
    "type: issues \n",
    "comments: true\n",
    "---"
   ]
  },
  {
   "cell_type": "markdown",
   "metadata": {},
   "source": [
    "### Homework Objectives\n",
    "\n",
    "You and your friend want to do different things at the amusement park. To decide, you do a coin flip. Heads means that you get to choose where to go and tails means that your friend gets to choose. If you go on a ride, be sure to check if you are the right height and have enough tickets, and if you go to a food stand, make sure that you have enough money and that the food is in stock. Be creative, and make sure to use nested conditionals!"
   ]
  },
  {
   "cell_type": "markdown",
   "metadata": {},
   "source": [
    "### Instructions\n",
    "\n",
    "1) Create a JavaScript file (Ex. insertName.js)\n",
    "\n",
    "2) Plan out what you will be doing and make variables for the necessary things. There will be a coin flip, so make a variable for that. If there are rides, make a value for the amount of tickets the person has and what height they are. If they go to a food stand, you can make a variable for the amount of money that you have and if the food is in stock.\n",
    "\n",
    "3) Use Math.random() for the coin flip. This generates a number between 0 and 1, so then you multiply this value by 2 and put it inside Math.floor() to round down and get either 0 or 1. Make this the coin flip variable.\n",
    "\n",
    "4) Use an if statement to check what the result of the coin flip was and use console.log to print out a statement to see who won or lost the coin flip. Along with that, print out where they are going next.\n",
    "\n",
    "5) Use more if statements inside of if statements to check if the person can do what they want to do. (Are they tall enough, do they have enough money, etc.)\n",
    "\n",
    "6) After all the checks, print out a result of what happened. If you get stuck, you can look at the examples in the popcorn hacks. Please don't copy and paste, though! \n"
   ]
  },
  {
   "cell_type": "code",
   "execution_count": 16,
   "metadata": {
    "vscode": {
     "languageId": "javascript"
    }
   },
   "outputs": [
    {
     "data": {
      "application/javascript": "\nlet coinflip = Math.random();\nlet result = coinflip;\nif (result > 0.5) {\n    console.log(\"Heads! I win! ferris wheel! Cotton Candy!\");\n} else if (result < 0.5) {\n    console.log(\"Tails! You win! rollercoaster! Ice Cream!\");\n}\n\nif (result > 0.5) { \n    function ferrisWheel() {\n        let ticketAmount = 60; \n        let riderHeight = 60; \n        let ride = \"Ferris Wheel\"; \n\n        function canRide(ticketAmount, riderHeight) { \n            if (ticketAmount >= 60) {\n                if (riderHeight >= 60) {\n                    console.log(\"You have enough tickets, you are tall enough! Yay! :D\"); \n                } else {\n                    console.log(\"You don't have enough tickets, orrr your too short :P\");\n                }\n            } else {\n                console.log(\"You don't have enough tickets, orrr your too short :P\");\n            }\n        }\n\n        if (ride === \"Ferris Wheel\") {\n            canRide(40, 40);\n        }\n    }\n} else {\n    let ticketAmount = 70;\n    let riderHeight = 70;\n    let ride = \"Rollercoaster\";\n\n    function canRide(ticketAmount, riderHeight) {\n        if (ticketAmount >= 70) {\n            if (riderHeight >= 70) {\n                console.log(\"You have enough tickets, you are tall enough! Yay! :D\");\n            } else {\n                console.log(\"You don't have enough tickets, orrr your too short :P\");\n            }\n        } else {\n            console.log(\"You don't have enough tickets, orrr your too short :P\");\n        }\n    }\n}\n",
      "text/plain": [
       "<IPython.core.display.Javascript object>"
      ]
     },
     "metadata": {},
     "output_type": "display_data"
    }
   ],
   "source": [
    "%%js\n",
    "\n",
    "let coinflip = Math.random();\n",
    "let result = coinflip;\n",
    "if (result > 0.5) {\n",
    "    console.log(\"Heads! I win! ferris wheel! Cotton Candy!\");\n",
    "} else if (result < 0.5) {\n",
    "    console.log(\"Tails! You win! rollercoaster! Ice Cream!\");\n",
    "}\n",
    "\n",
    "if (result > 0.5) { \n",
    "    function ferrisWheel() {\n",
    "        let ticketAmount = 60; \n",
    "        let riderHeight = 60; \n",
    "        let ride = \"Ferris Wheel\"; \n",
    "\n",
    "        function canRide(ticketAmount, riderHeight) { \n",
    "            if (ticketAmount >= 60) {\n",
    "                if (riderHeight >= 60) {\n",
    "                    console.log(\"You have enough tickets, you are tall enough! Yay! :D\"); \n",
    "                } else {\n",
    "                    console.log(\"You don't have enough tickets, orrr your too short :P\");\n",
    "                }\n",
    "            } else {\n",
    "                console.log(\"You don't have enough tickets, orrr your too short :P\");\n",
    "            }\n",
    "        }\n",
    "\n",
    "        if (ride === \"Ferris Wheel\") {\n",
    "            canRide(40, 40);\n",
    "        }\n",
    "    }\n",
    "} else {\n",
    "    let ticketAmount = 70;\n",
    "    let riderHeight = 70;\n",
    "    let ride = \"Rollercoaster\";\n",
    "\n",
    "    function canRide(ticketAmount, riderHeight) {\n",
    "        if (ticketAmount >= 70) {\n",
    "            if (riderHeight >= 70) {\n",
    "                console.log(\"You have enough tickets, you are tall enough! Yay! :D\");\n",
    "            } else {\n",
    "                console.log(\"You don't have enough tickets, orrr your too short :P\");\n",
    "            }\n",
    "        } else {\n",
    "            console.log(\"You don't have enough tickets, orrr your too short :P\");\n",
    "        }\n",
    "    }\n",
    "}"
   ]
  }
 ],
 "metadata": {
  "kernelspec": {
   "display_name": "Python 3",
   "language": "python",
   "name": "python3"
  },
  "language_info": {
   "codemirror_mode": {
    "name": "ipython",
    "version": 3
   },
   "file_extension": ".py",
   "mimetype": "text/x-python",
   "name": "python",
   "nbconvert_exporter": "python",
   "pygments_lexer": "ipython3",
   "version": "3.12.1"
  }
 },
 "nbformat": 4,
 "nbformat_minor": 2
}
