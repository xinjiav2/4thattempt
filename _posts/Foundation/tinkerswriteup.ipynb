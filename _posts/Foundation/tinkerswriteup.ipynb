{
 "cells": [
  {
   "cell_type": "markdown",
   "metadata": {},
   "source": [
    "---\n",
    "layout: post\n",
    "title: Tinkers Write Up\n",
    "permalink: /twu/\n",
    "---"
   ]
  },
  {
   "cell_type": "markdown",
   "metadata": {},
   "source": [
    "### Zhengji Li Tinkers\n"
   ]
  },
  {
   "cell_type": "markdown",
   "metadata": {},
   "source": [
    "\n",
    " - Tinker One: <br>\n",
    " For tinker one, I have decided to add a bit of randomness to my code, and used the math.floor() function and math.random() function to randomally generate three lines of text that would appear when you touch the mutant octopus sprite <br>\n",
    " ![Tinker One Code](tk1pt1.png)\n",
    " <br>\n",
    " Voice Line One: <br>\n",
    "  ![Tinker One Voice Line One](tk1pt2.png) <br>\n",
    " Voice Line Two: <br>\n",
    "  ![Tinker One Voice Line One](tk1pt3.png) <br>\n",
    " Voice Line Three: <br>\n",
    "  ![Tinker One Voice Line One](tk1pt4.png) <br>\n",
    "\n",
    "Please note: this was the orignal voice lines, where the OCTOCAT was the main enemey. Since then, The octocat has been replaced by a orignal character and his voice lines has changed, but the same mechanism is still present\n",
    "\n",
    "\n"
   ]
  },
  {
   "cell_type": "markdown",
   "metadata": {},
   "source": [
    "\n",
    " - Tinker Two: <br>\n",
    " Tinker Two was orignally a mistake. At the very start of the game project, when we were split into pairs of two, me and my partner; Advait Deshpande orignally planned to create a platformer RPG, where the main character Aarav Lohyia had to defeat his mortal enemey Ruhann Bansal to take his burrito back. However this idea was quickly shut down by Mort, mostly due to it shaming on Aarav and Ruhann, and that it might affect the overall game engine. However, by this time we had already finished the game, and even though the people of CSSE cannot enjoy this game, it has been a huge help in the development of our JavaScript skills and overall confidence in programming. <br>\n",
    " ![JavaScript Platformer Game](tk2.png)"
   ]
  },
  {
   "cell_type": "markdown",
   "metadata": {},
   "source": [
    " - Tinker Three: <br>\n",
    "Tinker Three, was when I added background music to our game. Orignally we were planning to use the bossfight file, used in the platformer game in tinker two. However that file was on my desktop pc and was not on my laptop so I could not add it. Thus I just added another .mp3 file on there, so there would still be a form of background music in the code, even if it was some random song that nobody in this school would enjoy. <br>\n",
    " ![Code For Tinkers](tk3.png)\n"
   ]
  },
  {
   "cell_type": "markdown",
   "metadata": {},
   "source": [
    "### Advait Deshpande Tinkers"
   ]
  },
  {
   "cell_type": "markdown",
   "metadata": {},
   "source": [
    " ### Flowchart Of Game\n"
   ]
  },
  {
   "cell_type": "markdown",
   "metadata": {},
   "source": [
    "\n",
    " ![Flowchart](final-flowchart.png) <br>\n",
    "flowchart !\n"
   ]
  }
 ],
 "metadata": {
  "language_info": {
   "name": "python"
  }
 },
 "nbformat": 4,
 "nbformat_minor": 2
}
